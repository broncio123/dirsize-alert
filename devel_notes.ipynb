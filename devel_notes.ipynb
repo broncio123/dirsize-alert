{
 "cells": [
  {
   "cell_type": "markdown",
   "metadata": {},
   "source": [
    "## Script"
   ]
  },
  {
   "cell_type": "code",
   "execution_count": 13,
   "metadata": {},
   "outputs": [
    {
     "name": "stdout",
     "output_type": "stream",
     "text": [
      "Overwriting email_alert.py\n"
     ]
    }
   ],
   "source": [
    "%%writefile email_alert.py\n",
    "import os\n",
    "import json\n",
    "import time\n",
    "import socket\n",
    "import smtplib\n",
    "import pathlib\n",
    "import shutil\n",
    "import subprocess\n",
    "from email.mime.text import MIMEText\n",
    "from email.mime.multipart import MIMEMultipart\n",
    "\n",
    "# Email configuration\n",
    "with open('alert_config.json','r') as f:\n",
    "    config = json.load(f)\n",
    "\n",
    "sender_email = config['sender_email']\n",
    "receiver_email = config['receiver_email']\n",
    "password = config['password']\n",
    "target_dir = config['target_dir']\n",
    "\n",
    "hostname = socket.gethostname()\n",
    "\n",
    "def send_email_notification(directory, total_dir_size, threshold_kb):\n",
    "    message = MIMEMultipart()\n",
    "    message['From'] = sender_email\n",
    "    message['To'] = receiver_email\n",
    "    message['Subject'] = f'Directory Size Alert: {hostname}'\n",
    "    body = f\"Warning: Directory '{directory}' size exceeded {threshold_kb} KB allowed limit.\\nYour directory is currently {total_dir_size} KB in size.\"\n",
    "    message.attach(MIMEText(body, 'plain'))\n",
    "\n",
    "    with smtplib.SMTP('smtp.gmail.com', 587) as server:\n",
    "        server.starttls()\n",
    "        server.login(sender_email, password)\n",
    "        server.send_message(message)\n",
    "\n",
    "def get_dir_diskspace(directory):\n",
    "    p = subprocess.run(['du','-s',directory], stdout=subprocess.PIPE)\n",
    "    diskspace_kb = int(p.stdout.decode().split('\\t')[0]) # space reserved in disk\n",
    "    return diskspace_kb\n",
    "\n",
    "def run_test():\n",
    "    parent_dir = pathlib.Path(__file__).parent.resolve()\n",
    "    testdir = os.path.join(parent_dir, 'testdir')\n",
    "    if not os.path.isdir(testdir):\n",
    "        os.mkdir(testdir)\n",
    "    else:\n",
    "        print('INFO: testdir already exists.')\n",
    "\n",
    "    # Create test files (~ 4.0 MB)\n",
    "    N = 1000\n",
    "    for i in range(N):\n",
    "        filepath = os.path.join(testdir, f\"hello{i}.txt\")\n",
    "        f = open(filepath, \"w\")\n",
    "        f.write(\"Hello World!\\n\") # 4 KB in disk space\n",
    "        f.close()\n",
    "\n",
    "    diskspace_kb = get_dir_diskspace(testdir)\n",
    "    print(f\"INFO: Generated 1000 text files with a total disk space use of {diskspace_kb} KB\")\n",
    "\n",
    "    threshold_kb = 1000 # KB\n",
    "    if diskspace_kb > threshold_kb:\n",
    "        try:\n",
    "            send_email_notification(testdir, diskspace_kb, threshold_kb)\n",
    "            print(\"INFO: Sent test email notification!\")\n",
    "            success = True\n",
    "        except Exception as e:\n",
    "            print(f\"ERROR: Test email failed. {e}\")\n",
    "    \n",
    "    if success:\n",
    "        print(\"INFO: Test was successful. Deleting 'testdir' and contents.\")\n",
    "        shutil.rmtree(testdir)\n",
    "\n",
    "def check_directory_size(target_dir, threshold_kb = 500000000):\n",
    "    diskspace_kb = get_dir_diskspace(target_dir)\n",
    "    print(f\"INFO: Your directory '{target_dir}' is currently using {diskspace_kb} KB in disk space.\")\n",
    "\n",
    "    if diskspace_kb > threshold_kb:\n",
    "        try:\n",
    "            send_email_notification(target_dir, diskspace_kb, threshold_kb)\n",
    "            print(\"INFO: Sent test email notification!\")\n",
    "            success = True\n",
    "        except Exception as e:\n",
    "            print(f\"ERROR: Test email failed. {e}\")\n",
    "\n",
    "if __name__ == \"__main__\":\n",
    "    import sys\n",
    "    test = sys.argv[1]\n",
    "    if test.strip().lower() == 'y':\n",
    "        run_test()\n",
    "    else:\n",
    "        # Limit of 500 GB\n",
    "        threshold_kb = 500000000\n",
    "        while True:\n",
    "            check_directory_size(threshold_kb)\n",
    "            n_hours = 24\n",
    "            time_sleep = 60*60*n_hours # seconds\n",
    "            time.sleep(time_sleep)"
   ]
  },
  {
   "cell_type": "markdown",
   "metadata": {},
   "source": [
    "## Create config json file"
   ]
  },
  {
   "cell_type": "code",
   "execution_count": 14,
   "metadata": {},
   "outputs": [],
   "source": [
    "info = {\n",
    " \"sender_email\": \"my_email_address\",\n",
    " \"receiver_email\": \"my_academic_email\",\n",
    " \"password\": \"application_password\",\n",
    " \"target_dir\": \"aboslute_dirpath_to_monitor\"\n",
    "}"
   ]
  },
  {
   "cell_type": "code",
   "execution_count": null,
   "metadata": {},
   "outputs": [],
   "source": [
    "import json\n",
    "with open('alert_config.json', 'w') as f:\n",
    "    json.dump(info, f, indent=1)"
   ]
  },
  {
   "cell_type": "markdown",
   "metadata": {},
   "source": [
    "# Potential improvements"
   ]
  },
  {
   "cell_type": "markdown",
   "metadata": {},
   "source": [
    "* Turn script into command line tool\n",
    "* Add dialog to input configuration data and create alert_config.json file "
   ]
  },
  {
   "cell_type": "markdown",
   "metadata": {},
   "source": []
  }
 ],
 "metadata": {
  "kernelspec": {
   "display_name": "Python 3",
   "language": "python",
   "name": "python3"
  },
  "language_info": {
   "codemirror_mode": {
    "name": "ipython",
    "version": 3
   },
   "file_extension": ".py",
   "mimetype": "text/x-python",
   "name": "python",
   "nbconvert_exporter": "python",
   "pygments_lexer": "ipython3",
   "version": "3.8.18"
  }
 },
 "nbformat": 4,
 "nbformat_minor": 2
}
